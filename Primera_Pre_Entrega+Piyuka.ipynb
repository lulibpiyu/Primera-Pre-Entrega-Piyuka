{
  "nbformat": 4,
  "nbformat_minor": 0,
  "metadata": {
    "colab": {
      "provenance": [],
      "authorship_tag": "ABX9TyNlrO65qld+Boto48Q7/16Q",
      "include_colab_link": true
    },
    "kernelspec": {
      "name": "python3",
      "display_name": "Python 3"
    },
    "language_info": {
      "name": "python"
    }
  },
  "cells": [
    {
      "cell_type": "markdown",
      "metadata": {
        "id": "view-in-github",
        "colab_type": "text"
      },
      "source": [
        "<a href=\"https://colab.research.google.com/github/lulibpiyu/Primera-Pre-Entrega-Piyuka/blob/main/Primera_Pre_Entrega%2BPiyuka.ipynb\" target=\"_parent\"><img src=\"https://colab.research.google.com/assets/colab-badge.svg\" alt=\"Open In Colab\"/></a>"
      ]
    },
    {
      "cell_type": "code",
      "source": [
        "from google.colab import drive\n",
        "import json\n",
        "import os\n",
        "\n",
        "drive.mount('/content/drive')\n",
        "json_path = '/content/drive/My Drive/Primera Pre-Entrega Piyuka/usuarios_db.json'"
      ],
      "metadata": {
        "colab": {
          "base_uri": "https://localhost:8080/"
        },
        "id": "JTFdwAlLknqA",
        "outputId": "d6dc3c19-ad3b-4cdc-d960-15ffc557e850"
      },
      "execution_count": 30,
      "outputs": [
        {
          "output_type": "stream",
          "name": "stdout",
          "text": [
            "Drive already mounted at /content/drive; to attempt to forcibly remount, call drive.mount(\"/content/drive\", force_remount=True).\n"
          ]
        }
      ]
    },
    {
      "cell_type": "code",
      "execution_count": 31,
      "metadata": {
        "id": "zS0HO3DHcAWd"
      },
      "outputs": [],
      "source": [
        "# Recuperar BD desde un archivo\n",
        "def cargar_datos():\n",
        "    if os.path.exists(json_path):\n",
        "        with open(json_path, \"r\") as file:\n",
        "            return json.load(file)\n",
        "    return {}\n",
        "\n",
        "# Guardar BD en un archivo\n",
        "def guardar_datos(usuarios_db):\n",
        "    with open(json_path, \"w\") as file:\n",
        "        json.dump(usuarios_db, file)\n",
        "\n",
        "# Diccionario de usuarios, contraseñas y estado de bloqueo\n",
        "usuarios_db = cargar_datos()\n",
        "usuario_actual = None"
      ]
    },
    {
      "cell_type": "code",
      "source": [
        "def crear_usuario():\n",
        "    nombre_usuario = input(\"Ingrese el nombre de usuario: \")\n",
        "    if nombre_usuario in usuarios_db:\n",
        "        print(\"El usuario ya existe. Intente otro nombre de usuario.\")\n",
        "    else:\n",
        "        contraseña = input(\"Ingrese la contraseña: \")\n",
        "        es_admin = input(\"¿Es administrador? (s/n): \").lower() == 's'\n",
        "        usuarios_db[nombre_usuario] = {'contraseña': contraseña, 'intentos': 0, 'bloqueado': False, 'admin': es_admin}\n",
        "        guardar_datos(usuarios_db)\n",
        "        print(f\"Usuario '{nombre_usuario}' creado exitosamente.\")"
      ],
      "metadata": {
        "id": "GdBG5Aa-cHR5"
      },
      "execution_count": 32,
      "outputs": []
    },
    {
      "cell_type": "code",
      "source": [
        "def login_usuario():\n",
        "    global usuario_actual\n",
        "    nombre_usuario = input(\"Ingrese su nombre de usuario: \")\n",
        "\n",
        "    if nombre_usuario not in usuarios_db:\n",
        "        print(\"El usuario no existe.\")\n",
        "        return\n",
        "\n",
        "    if usuarios_db[nombre_usuario]['bloqueado']:\n",
        "        print(\"Usuario Bloqueado. Contacte al Administrador.\")\n",
        "        return\n",
        "\n",
        "    intentos_restantes = 3 - usuarios_db[nombre_usuario]['intentos']\n",
        "    while intentos_restantes > 0:\n",
        "        contraseña = input(\"Ingrese su contraseña (o salir para cancelar): \")\n",
        "        if contraseña.lower() == 'salir':\n",
        "            print(\"Proceso de login cancelado.\")\n",
        "            return\n",
        "        if usuarios_db[nombre_usuario]['contraseña'] == contraseña:\n",
        "            print(\"Login exitoso. ¡Bienvenido!\")\n",
        "            usuarios_db[nombre_usuario]['intentos'] = 0  # Borrar intentos fallidos después de login correcto\n",
        "            usuario_actual = nombre_usuario\n",
        "            guardar_datos(usuarios_db)\n",
        "            return\n",
        "        else:\n",
        "            intentos_restantes -= 1\n",
        "            usuarios_db[nombre_usuario]['intentos'] += 1\n",
        "            print(f\"Contraseña incorrecta. Intentos restantes: {intentos_restantes}\")\n",
        "            guardar_datos(usuarios_db)\n",
        "\n",
        "        if intentos_restantes == 0:\n",
        "            usuarios_db[nombre_usuario]['bloqueado'] = True\n",
        "            guardar_datos(usuarios_db)\n",
        "            print(\"Ha fallado 3 veces. Usuario Bloqueado.\")\n",
        "            return"
      ],
      "metadata": {
        "id": "GGXAeIz2cJiK"
      },
      "execution_count": 33,
      "outputs": []
    },
    {
      "cell_type": "code",
      "source": [
        "def logout_usuario():\n",
        "    global usuario_actual\n",
        "    if usuario_actual:\n",
        "        print(f\"Sesión Finalizada.\")\n",
        "        usuario_actual = None\n",
        "    else:\n",
        "        print(\"No hay ninguna sesión iniciada.\")"
      ],
      "metadata": {
        "id": "ArMvlKIrcMmr"
      },
      "execution_count": 34,
      "outputs": []
    },
    {
      "cell_type": "code",
      "source": [
        "def desbloquear_usuario():\n",
        "    nombre_usuario = input(\"Ingrese el nombre de usuario a desbloquear: \")\n",
        "    if nombre_usuario in usuarios_db:\n",
        "        if usuarios_db[nombre_usuario]['bloqueado']:\n",
        "            usuarios_db[nombre_usuario]['bloqueado'] = False\n",
        "            usuarios_db[nombre_usuario]['intentos'] = 0\n",
        "            guardar_datos(usuarios_db)\n",
        "            print(f\"Usuario '{nombre_usuario}' desbloqueado.\")\n",
        "        else:\n",
        "            print(f\"El usuario '{nombre_usuario}' no está bloqueado.\")\n",
        "    else:\n",
        "        print(\"El usuario no existe.\")"
      ],
      "metadata": {
        "id": "Y0S7yfJ0cOaR"
      },
      "execution_count": 35,
      "outputs": []
    },
    {
      "cell_type": "code",
      "source": [
        "def cambiar_contraseña():\n",
        "    nombre_usuario = input(\"Ingrese su nombre de usuario: \")\n",
        "\n",
        "    if nombre_usuario not in usuarios_db:\n",
        "        print(\"El usuario no existe.\")\n",
        "        return\n",
        "\n",
        "    contraseña_actual = input(\"Ingrese su contraseña actual: \")\n",
        "    if usuarios_db[nombre_usuario]['contraseña'] == contraseña_actual:\n",
        "        nueva_contraseña = input(\"Ingrese la nueva contraseña: \")\n",
        "        usuarios_db[nombre_usuario]['contraseña'] = nueva_contraseña\n",
        "        usuarios_db[nombre_usuario]['intentos'] = 0\n",
        "        guardar_datos(usuarios_db)\n",
        "        print(f\"Contraseña del usuario '{nombre_usuario}' actualizada.\")\n",
        "    else:\n",
        "        print(\"Contraseña actual incorrecta.\")"
      ],
      "metadata": {
        "id": "-HQq81TFcP6L"
      },
      "execution_count": 36,
      "outputs": []
    },
    {
      "cell_type": "code",
      "source": [
        "def mostrar_datos():\n",
        "    global usuario_actual\n",
        "    if not usuario_actual or not usuarios_db[usuario_actual].get('admin', False):\n",
        "        print(\"Acceso denegado. Solo un administrador puede ver los datos.\")\n",
        "        return\n",
        "\n",
        "    print(\"\\n--- Datos Guardados en la Base de Datos ---\")\n",
        "    for usuario, datos in usuarios_db.items():\n",
        "        admin_texto = \"Sí\" if datos.get('admin', False) else \"No\"\n",
        "        print(f\"Usuario: {usuario}, Contraseña: {datos['contraseña']}, Bloqueado: {datos['bloqueado']}, Administrador: {admin_texto}\")\n"
      ],
      "metadata": {
        "id": "lAc4Z9tUcRqn"
      },
      "execution_count": 37,
      "outputs": []
    },
    {
      "cell_type": "code",
      "source": [
        "def mostrar_menu():\n",
        "    print(\"\\n--- Menú Principal ---\")\n",
        "    if not usuario_actual:\n",
        "        print(\"1. Crear usuario\")\n",
        "        print(\"2. Login\")\n",
        "        print(\"3. Finalizar ejecución del programa\")\n",
        "    else:\n",
        "        print(\"1. Logout\")\n",
        "        print(\"2. Cambiar contraseña\")\n",
        "        print(\"3. Finalizar ejecución del programa\")\n",
        "        if usuarios_db[usuario_actual].get('admin', False):\n",
        "            print(\"4. Desbloquear usuario\")\n",
        "            print(\"5. Mostrar datos (Admin)\")\n",
        "\n",
        "while True:\n",
        "    mostrar_menu()\n",
        "    opcion = input(\"Seleccione una opción: \")\n",
        "\n",
        "    if opcion == \"1\" and not usuario_actual:\n",
        "        crear_usuario()\n",
        "    elif opcion == \"2\" and not usuario_actual:\n",
        "        login_usuario()\n",
        "    elif opcion == \"1\" and usuario_actual:\n",
        "        logout_usuario()\n",
        "    elif opcion == \"2\" and usuario_actual:\n",
        "        cambiar_contraseña()\n",
        "    elif opcion == \"3\":\n",
        "        logout_usuario()\n",
        "        print(\"Finalizando ejecución del programa.\")\n",
        "        break\n",
        "    elif opcion == \"4\" and usuario_actual and usuarios_db[usuario_actual].get('admin', False):\n",
        "        desbloquear_usuario()\n",
        "    elif opcion == \"5\" and usuario_actual and usuarios_db[usuario_actual].get('admin', False):\n",
        "        mostrar_datos()\n",
        "    else:\n",
        "        print(\"Opción NO disponible para su perfil de Usuario. Intente nuevamente.\")"
      ],
      "metadata": {
        "id": "VW3SG-73jCU4"
      },
      "execution_count": null,
      "outputs": []
    }
  ]
}